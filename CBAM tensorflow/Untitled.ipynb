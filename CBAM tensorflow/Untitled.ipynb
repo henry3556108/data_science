{
 "cells": [
  {
   "cell_type": "code",
   "execution_count": 2,
   "id": "61ba2415-f65a-4afb-aa99-d28404c003f6",
   "metadata": {},
   "outputs": [],
   "source": [
    "from tensorflow.keras import layers\n",
    "import tensorflow as tf\n",
    "from tensorflow.keras import regularizers\n",
    "\n",
    "class ChannelAttention(layers.Layer):\n",
    "    def __init__(self, in_planes, ratio=16):\n",
    "        super(ChannelAttention, self).__init__()\n",
    "\n",
    "        self.avg= layers.GlobalAveragePooling2D()\n",
    "        self.max= layers.GlobalMaxPooling2D()\n",
    "\n",
    "        self.fc1 = layers.Dense(in_planes//ratio, kernel_initializer='he_normal', activation='relu',\n",
    "                                kernel_regularizer=regularizers.l2(5e-4),\n",
    "                                use_bias=True, bias_initializer='zeros')\n",
    "        self.fc2 = layers.Dense(in_planes, kernel_initializer='he_normal',\n",
    "                                kernel_regularizer=regularizers.l2(5e-4),\n",
    "                                use_bias=True, bias_initializer='zeros')\n",
    "\n",
    "    def call(self, inputs):\n",
    "        avg_out = self.fc2(self.fc1(self.avg(inputs)))\n",
    "        max_out = self.fc2(self.fc1(self.max(inputs)))\n",
    "        out = avg_out + max_out\n",
    "        out = tf.nn.sigmoid(out)\n",
    "        out = layers.Reshape((1, 1, out.shape[1]))(out)\n",
    "        return out"
   ]
  },
  {
   "cell_type": "code",
   "execution_count": 3,
   "id": "d5962ee9-03e8-4f7f-9cc6-9a26017eee23",
   "metadata": {},
   "outputs": [],
   "source": [
    "channel_attention = ChannelAttention(256)"
   ]
  },
  {
   "cell_type": "code",
   "execution_count": null,
   "id": "07a6bd41-2c89-4717-9bce-0bca62301588",
   "metadata": {},
   "outputs": [],
   "source": []
  }
 ],
 "metadata": {
  "kernelspec": {
   "display_name": "Python 3 (ipykernel)",
   "language": "python",
   "name": "python3"
  },
  "language_info": {
   "codemirror_mode": {
    "name": "ipython",
    "version": 3
   },
   "file_extension": ".py",
   "mimetype": "text/x-python",
   "name": "python",
   "nbconvert_exporter": "python",
   "pygments_lexer": "ipython3",
   "version": "3.9.10"
  }
 },
 "nbformat": 4,
 "nbformat_minor": 5
}
