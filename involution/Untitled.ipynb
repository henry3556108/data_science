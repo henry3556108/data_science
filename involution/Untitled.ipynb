{
 "cells": [
  {
   "cell_type": "code",
   "execution_count": 2,
   "id": "a005c64d",
   "metadata": {},
   "outputs": [],
   "source": [
    "from torch import nn, select\n",
    "import torch"
   ]
  },
  {
   "cell_type": "code",
   "execution_count": 54,
   "id": "f4c6b87f",
   "metadata": {},
   "outputs": [
    {
     "data": {
      "text/plain": [
       "tensor([[[[[1., 1.],\n",
       "           [1., 1.]],\n",
       "\n",
       "          [[6., 6.],\n",
       "           [6., 6.]]],\n",
       "\n",
       "\n",
       "         [[[1., 1.],\n",
       "           [1., 1.]],\n",
       "\n",
       "          [[9., 9.],\n",
       "           [6., 6.]]]]])"
      ]
     },
     "execution_count": 54,
     "metadata": {},
     "output_type": "execute_result"
    }
   ],
   "source": [
    "input=torch.Tensor([[[[[1,1],[1,1]],[[2,2], [2,2]]],[[[1,1],[1,1]],[[3,3], [2,2]]]]])\n",
    "w = torch.Tensor([[[[[1,1],[1,1]],[[3,3], [3,3]]]]])\n",
    "input*w\n",
    "# input.shape, w.shape\n",
    "# weight=input.reshape(1,1,9,32,32).unsqueeze(2) #(bs,G,1,K*K,H//stride,W//stride)\n",
    "# weight.shape"
   ]
  },
  {
   "cell_type": "code",
   "execution_count": 42,
   "id": "4211ee29",
   "metadata": {},
   "outputs": [
    {
     "name": "stdout",
     "output_type": "stream",
     "text": [
      "0\n"
     ]
    }
   ],
   "source": [
    "kernel_size = 3\n",
    "stride = 2\n",
    "# print(kernel_size//4)\n",
    "\n",
    "unfold=nn.Unfold(kernel_size=kernel_size, stride=stride, padding=kernel_size//2)"
   ]
  },
  {
   "cell_type": "code",
   "execution_count": 45,
   "id": "5a992b85",
   "metadata": {},
   "outputs": [
    {
     "data": {
      "text/plain": [
       "torch.Size([1, 162, 256])"
      ]
     },
     "execution_count": 45,
     "metadata": {},
     "output_type": "execute_result"
    }
   ],
   "source": [
    "x = unfold(input)\n",
    "x.shape"
   ]
  },
  {
   "cell_type": "code",
   "execution_count": 6,
   "id": "898f32f1",
   "metadata": {},
   "outputs": [
    {
     "data": {
      "text/plain": [
       "65.0"
      ]
     },
     "execution_count": 6,
     "metadata": {},
     "output_type": "execute_result"
    }
   ],
   "source": [
    "4225**0.5"
   ]
  },
  {
   "cell_type": "code",
   "execution_count": null,
   "id": "d806bf2f",
   "metadata": {},
   "outputs": [],
   "source": []
  }
 ],
 "metadata": {
  "kernelspec": {
   "display_name": "Python 3 (ipykernel)",
   "language": "python",
   "name": "python3"
  },
  "language_info": {
   "codemirror_mode": {
    "name": "ipython",
    "version": 3
   },
   "file_extension": ".py",
   "mimetype": "text/x-python",
   "name": "python",
   "nbconvert_exporter": "python",
   "pygments_lexer": "ipython3",
   "version": "3.9.10"
  }
 },
 "nbformat": 4,
 "nbformat_minor": 5
}
