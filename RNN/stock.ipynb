{
 "cells": [
  {
   "cell_type": "code",
   "execution_count": 105,
   "metadata": {},
   "outputs": [],
   "source": [
    "from keras.models import Sequential\n",
    "from keras.layers import Dense\n",
    "from keras.layers import LSTM\n",
    "from keras.layers import Dropout, BatchNormalization\n",
    "import pandas as pd\n",
    "import numpy as np\n",
    "from matplotlib import pyplot as plt\n",
    "import keras"
   ]
  },
  {
   "cell_type": "markdown",
   "metadata": {},
   "source": [
    "preprocessing the data, renaming columns name and casting"
   ]
  },
  {
   "cell_type": "code",
   "execution_count": 106,
   "metadata": {},
   "outputs": [],
   "source": [
    "def get_data():\n",
    "    df = pd.read_csv(\"eth.csv\")\n",
    "    df.columns = [\"date\", \"close\", \"open\", \"high\", \"low\", \"volume\", \"pct\"]\n",
    "    df.date = df.date.str.replace(\"年\", \"/\")\n",
    "    df.date = df.date.str.replace(\"月\", \"/\")\n",
    "    df.date = df.date.str.replace(\"日\", \"\")\n",
    "    df.date = pd.to_datetime(df.date)\n",
    "    for col in df.columns[1:]:\n",
    "        df[col] = df[col].str.replace(\",\", \"\")\n",
    "        df[col] = df[col].str.replace(\"%\", \"\")\n",
    "        df[col] = df[col].str.replace(\"K\", \"\")\n",
    "        df[col] = df[col].str.replace(\"M\", \"\")\n",
    "        df[col] = df[col].str.replace(\"-\", \"\")\n",
    "        df[col] = pd.to_numeric(df[col], errors = \"raise\")\n",
    "    return df"
   ]
  },
  {
   "cell_type": "markdown",
   "metadata": {},
   "source": [
    "split and slice data with ratio and length"
   ]
  },
  {
   "cell_type": "code",
   "execution_count": 107,
   "metadata": {},
   "outputs": [
    {
     "ename": "SyntaxError",
     "evalue": "invalid syntax (696730454.py, line 24)",
     "output_type": "error",
     "traceback": [
      "\u001b[1;36m  Input \u001b[1;32mIn [107]\u001b[1;36m\u001b[0m\n\u001b[1;33m    index = list(tmp.index).index(int(len(tmp.index) * ratio))=\u001b[0m\n\u001b[1;37m                                                               ^\u001b[0m\n\u001b[1;31mSyntaxError\u001b[0m\u001b[1;31m:\u001b[0m invalid syntax\n"
     ]
    }
   ],
   "source": [
    "def get_train_test_data(eth, ratio = 0.3, length = 5, cols = [\"close\"]):\n",
    "    '''\n",
    "    ratio: 0 < ratio < 1\n",
    "    length: length >= 1\n",
    "    cols: [close|open|high|low|volume|pct]\n",
    "    '''\n",
    "    tmp = eth.copy(deep=True)\n",
    "    recover = {\"close\":{}, \"open\": {}, \"high\": {}, \"low\": {}}\n",
    "    recover[\"close\"][\"std\"] = eth.close.std()\n",
    "    recover[\"close\"][\"mean\"] = eth.close.mean()\n",
    "    recover[\"open\"][\"std\"] = eth.open.std()\n",
    "    recover[\"open\"][\"mean\"] = eth.open.mean()   \n",
    "    recover[\"high\"][\"std\"] = eth.high.std()\n",
    "    recover[\"high\"][\"mean\"] = eth.high.mean()   \n",
    "    recover[\"low\"][\"std\"] = eth.low.std()\n",
    "    recover[\"low\"][\"mean\"] = eth.low.mean()   \n",
    "    tmp.close = (eth.close - recover[\"close\"][\"mean\"]) / recover[\"close\"][\"std\"]\n",
    "    tmp.open = (eth.open - recover[\"open\"][\"mean\"]) / recover[\"open\"][\"std\"]\n",
    "    tmp.high = (eth.high - recover[\"high\"][\"mean\"]) / recover[\"high\"][\"std\"]\n",
    "    tmp.low = (eth.low - recover[\"low\"][\"mean\"]) / recover[\"low\"][\"std\"]\n",
    "    y = tmp.close[: -length]\n",
    "    x = np.stack([tmp.loc[index + 1: index + length, cols] for index in y.index])\n",
    "    x = np.reshape(x, (x.shape[0], len(cols), x.shape[1]))\n",
    "    index = list(tmp.index).index(int(len(tmp.index) * ratio))=\n",
    "    x_train, x_test, y_train, y_test = x[index:], x[:index], y[index:], y[:index]\n",
    "    return x_train, x_test, y_train, y_test, recover\n"
   ]
  },
  {
   "cell_type": "code",
   "execution_count": 108,
   "metadata": {},
   "outputs": [],
   "source": [
    "def get_model(train_x):\n",
    "    model = Sequential()\n",
    "    print(train_x.shape)\n",
    "    model.add(LSTM(units = 50, input_shape = (train_x.shape[1], train_x.shape[2])))\n",
    "    model.add(BatchNormalization(momentum=0.98))\n",
    "    model.add(Dropout(0.3))\n",
    "    model.add(Dense(units = 1))\n",
    "    model.compile(optimizer = 'adam', loss = 'mean_squared_error')\n",
    "    model.summary()\n",
    "    return model"
   ]
  },
  {
   "cell_type": "code",
   "execution_count": 109,
   "metadata": {},
   "outputs": [],
   "source": [
    "def recover_value(y, recover, col):\n",
    "    return y * recover[col][\"std\"] + recover[col][\"mean\"]"
   ]
  },
  {
   "cell_type": "code",
   "execution_count": 110,
   "metadata": {},
   "outputs": [
    {
     "name": "stdout",
     "output_type": "stream",
     "text": [
      "(1489, 1, 5)\n",
      "Model: \"sequential_21\"\n",
      "_________________________________________________________________\n",
      " Layer (type)                Output Shape              Param #   \n",
      "=================================================================\n",
      " lstm_21 (LSTM)              (None, 50)                11200     \n",
      "                                                                 \n",
      " batch_normalization_21 (Bat  (None, 50)               200       \n",
      " chNormalization)                                                \n",
      "                                                                 \n",
      " dropout_19 (Dropout)        (None, 50)                0         \n",
      "                                                                 \n",
      " dense_21 (Dense)            (None, 1)                 51        \n",
      "                                                                 \n",
      "=================================================================\n",
      "Total params: 11,451\n",
      "Trainable params: 11,351\n",
      "Non-trainable params: 100\n",
      "_________________________________________________________________\n",
      "Epoch 1/100\n",
      "84/84 [==============================] - 2s 8ms/step - loss: 0.1209 - val_loss: 0.0483\n",
      "Epoch 2/100\n",
      "84/84 [==============================] - 0s 3ms/step - loss: 0.0477 - val_loss: 0.0362\n",
      "Epoch 3/100\n",
      "84/84 [==============================] - 0s 3ms/step - loss: 0.0284 - val_loss: 0.0260\n",
      "Epoch 4/100\n",
      "84/84 [==============================] - 0s 3ms/step - loss: 0.0176 - val_loss: 0.0039\n",
      "Epoch 5/100\n",
      "84/84 [==============================] - 0s 3ms/step - loss: 0.0116 - val_loss: 0.0037\n",
      "Epoch 6/100\n",
      "84/84 [==============================] - 0s 3ms/step - loss: 0.0084 - val_loss: 0.0028\n",
      "Epoch 7/100\n",
      "84/84 [==============================] - 0s 3ms/step - loss: 0.0070 - val_loss: 0.0042\n",
      "Epoch 8/100\n",
      "84/84 [==============================] - 0s 3ms/step - loss: 0.0075 - val_loss: 1.6072e-05\n",
      "Epoch 9/100\n",
      "84/84 [==============================] - 0s 3ms/step - loss: 0.0072 - val_loss: 5.6683e-04\n",
      "Epoch 10/100\n",
      "84/84 [==============================] - 0s 3ms/step - loss: 0.0065 - val_loss: 7.0779e-04\n",
      "Epoch 11/100\n",
      "84/84 [==============================] - 0s 3ms/step - loss: 0.0062 - val_loss: 6.0942e-05\n",
      "Epoch 12/100\n",
      "84/84 [==============================] - 0s 3ms/step - loss: 0.0070 - val_loss: 3.8918e-06\n",
      "Epoch 13/100\n",
      "84/84 [==============================] - 0s 3ms/step - loss: 0.0057 - val_loss: 6.4633e-05\n",
      "Epoch 14/100\n",
      "84/84 [==============================] - 0s 3ms/step - loss: 0.0069 - val_loss: 5.7991e-04\n",
      "Epoch 15/100\n",
      "84/84 [==============================] - 0s 3ms/step - loss: 0.0062 - val_loss: 0.0019\n",
      "Epoch 16/100\n",
      "84/84 [==============================] - 0s 3ms/step - loss: 0.0063 - val_loss: 0.0016\n",
      "Epoch 17/100\n",
      "84/84 [==============================] - 0s 3ms/step - loss: 0.0064 - val_loss: 6.7286e-04\n",
      "Epoch 18/100\n",
      "84/84 [==============================] - 0s 3ms/step - loss: 0.0062 - val_loss: 0.0099\n",
      "Epoch 19/100\n",
      "84/84 [==============================] - 0s 3ms/step - loss: 0.0076 - val_loss: 2.2340e-05\n",
      "Epoch 20/100\n",
      "84/84 [==============================] - 0s 3ms/step - loss: 0.0055 - val_loss: 8.2354e-04\n",
      "Epoch 21/100\n",
      "84/84 [==============================] - 0s 3ms/step - loss: 0.0059 - val_loss: 3.8084e-04\n",
      "Epoch 22/100\n",
      "84/84 [==============================] - 0s 3ms/step - loss: 0.0054 - val_loss: 0.0026\n",
      "Epoch 23/100\n",
      "84/84 [==============================] - 0s 3ms/step - loss: 0.0059 - val_loss: 9.6433e-07\n",
      "Epoch 24/100\n",
      "84/84 [==============================] - 0s 3ms/step - loss: 0.0050 - val_loss: 4.2431e-05\n",
      "Epoch 25/100\n",
      "84/84 [==============================] - 0s 3ms/step - loss: 0.0051 - val_loss: 2.2155e-04\n",
      "Epoch 26/100\n",
      "84/84 [==============================] - 0s 4ms/step - loss: 0.0067 - val_loss: 2.6084e-05\n",
      "Epoch 27/100\n",
      "84/84 [==============================] - 0s 3ms/step - loss: 0.0047 - val_loss: 1.3190e-04\n",
      "Epoch 28/100\n",
      "84/84 [==============================] - 0s 2ms/step - loss: 0.0057 - val_loss: 0.0073\n",
      "Epoch 29/100\n",
      "84/84 [==============================] - 0s 3ms/step - loss: 0.0058 - val_loss: 9.6953e-04\n",
      "Epoch 30/100\n",
      "84/84 [==============================] - 0s 3ms/step - loss: 0.0057 - val_loss: 0.0024\n",
      "Epoch 31/100\n",
      "84/84 [==============================] - 0s 3ms/step - loss: 0.0065 - val_loss: 0.0040\n",
      "Epoch 32/100\n",
      "84/84 [==============================] - 0s 3ms/step - loss: 0.0059 - val_loss: 3.9499e-05\n",
      "Epoch 33/100\n",
      "84/84 [==============================] - 0s 3ms/step - loss: 0.0062 - val_loss: 1.1441e-04\n",
      "Epoch 34/100\n",
      "84/84 [==============================] - 0s 3ms/step - loss: 0.0063 - val_loss: 0.0026\n",
      "Epoch 35/100\n",
      "84/84 [==============================] - 0s 3ms/step - loss: 0.0055 - val_loss: 7.1645e-04\n",
      "Epoch 36/100\n",
      "84/84 [==============================] - 0s 3ms/step - loss: 0.0054 - val_loss: 6.1552e-04\n",
      "Epoch 37/100\n",
      "84/84 [==============================] - 0s 3ms/step - loss: 0.0047 - val_loss: 2.8399e-06\n",
      "Epoch 38/100\n",
      "84/84 [==============================] - 0s 3ms/step - loss: 0.0050 - val_loss: 1.0508e-04\n",
      "Epoch 39/100\n",
      "84/84 [==============================] - 0s 3ms/step - loss: 0.0049 - val_loss: 9.8143e-06\n",
      "Epoch 40/100\n",
      "84/84 [==============================] - 0s 3ms/step - loss: 0.0038 - val_loss: 0.0019\n",
      "Epoch 41/100\n",
      "84/84 [==============================] - 0s 3ms/step - loss: 0.0049 - val_loss: 1.6247e-04\n",
      "Epoch 42/100\n",
      "84/84 [==============================] - 0s 3ms/step - loss: 0.0052 - val_loss: 7.4086e-05\n",
      "Epoch 43/100\n",
      "84/84 [==============================] - 0s 4ms/step - loss: 0.0048 - val_loss: 3.4536e-05\n",
      "Epoch 44/100\n",
      "84/84 [==============================] - 0s 3ms/step - loss: 0.0052 - val_loss: 2.3097e-06\n",
      "Epoch 45/100\n",
      "84/84 [==============================] - 0s 3ms/step - loss: 0.0054 - val_loss: 3.0822e-04\n",
      "Epoch 46/100\n",
      "84/84 [==============================] - 0s 3ms/step - loss: 0.0046 - val_loss: 5.5182e-06\n",
      "Epoch 47/100\n",
      "84/84 [==============================] - 0s 3ms/step - loss: 0.0048 - val_loss: 6.5860e-05\n",
      "Epoch 48/100\n",
      "84/84 [==============================] - 0s 3ms/step - loss: 0.0042 - val_loss: 0.0026\n",
      "Epoch 49/100\n",
      "84/84 [==============================] - 0s 3ms/step - loss: 0.0047 - val_loss: 0.0066\n",
      "Epoch 50/100\n",
      "84/84 [==============================] - 0s 3ms/step - loss: 0.0047 - val_loss: 0.0016\n",
      "Epoch 51/100\n",
      "84/84 [==============================] - 0s 3ms/step - loss: 0.0047 - val_loss: 0.0034\n",
      "Epoch 52/100\n",
      "84/84 [==============================] - 0s 3ms/step - loss: 0.0045 - val_loss: 3.0260e-05\n",
      "Epoch 53/100\n",
      "84/84 [==============================] - 0s 3ms/step - loss: 0.0034 - val_loss: 7.8561e-04\n",
      "Epoch 54/100\n",
      "84/84 [==============================] - 0s 3ms/step - loss: 0.0046 - val_loss: 0.0029\n",
      "Epoch 55/100\n",
      "84/84 [==============================] - 0s 3ms/step - loss: 0.0048 - val_loss: 0.0010\n",
      "Epoch 56/100\n",
      "84/84 [==============================] - 0s 3ms/step - loss: 0.0037 - val_loss: 1.1853e-04\n",
      "Epoch 57/100\n",
      "84/84 [==============================] - 0s 3ms/step - loss: 0.0040 - val_loss: 1.5324e-04\n",
      "Epoch 58/100\n",
      "84/84 [==============================] - 0s 3ms/step - loss: 0.0045 - val_loss: 6.4940e-04\n",
      "Epoch 59/100\n",
      "84/84 [==============================] - 0s 3ms/step - loss: 0.0052 - val_loss: 0.0017\n",
      "Epoch 60/100\n",
      "84/84 [==============================] - 0s 3ms/step - loss: 0.0042 - val_loss: 2.7063e-06\n",
      "Epoch 61/100\n",
      "84/84 [==============================] - 0s 3ms/step - loss: 0.0049 - val_loss: 0.0072\n",
      "Epoch 62/100\n",
      "84/84 [==============================] - 0s 3ms/step - loss: 0.0047 - val_loss: 0.0012\n",
      "Epoch 63/100\n",
      "84/84 [==============================] - 0s 3ms/step - loss: 0.0044 - val_loss: 4.9305e-05\n",
      "Epoch 64/100\n",
      "84/84 [==============================] - 0s 3ms/step - loss: 0.0044 - val_loss: 5.2979e-05\n",
      "Epoch 65/100\n",
      "84/84 [==============================] - 0s 3ms/step - loss: 0.0050 - val_loss: 4.1528e-04\n",
      "Epoch 66/100\n",
      "84/84 [==============================] - 0s 3ms/step - loss: 0.0044 - val_loss: 2.0477e-05\n",
      "Epoch 67/100\n",
      "84/84 [==============================] - 0s 3ms/step - loss: 0.0044 - val_loss: 0.0026\n",
      "Epoch 68/100\n",
      "84/84 [==============================] - 0s 3ms/step - loss: 0.0042 - val_loss: 3.5355e-05\n",
      "Epoch 69/100\n",
      "84/84 [==============================] - 0s 3ms/step - loss: 0.0050 - val_loss: 7.9961e-05\n",
      "Epoch 70/100\n",
      "84/84 [==============================] - 0s 3ms/step - loss: 0.0056 - val_loss: 3.0204e-04\n",
      "Epoch 71/100\n",
      "84/84 [==============================] - 0s 3ms/step - loss: 0.0051 - val_loss: 5.7500e-06\n",
      "Epoch 72/100\n",
      "84/84 [==============================] - 0s 3ms/step - loss: 0.0048 - val_loss: 0.0032\n",
      "Epoch 73/100\n",
      "84/84 [==============================] - 0s 4ms/step - loss: 0.0043 - val_loss: 2.7029e-04\n",
      "Epoch 74/100\n",
      "84/84 [==============================] - 0s 3ms/step - loss: 0.0051 - val_loss: 0.0023\n",
      "Epoch 75/100\n",
      "84/84 [==============================] - 0s 3ms/step - loss: 0.0046 - val_loss: 1.0023e-05\n",
      "Epoch 76/100\n",
      "84/84 [==============================] - 0s 3ms/step - loss: 0.0042 - val_loss: 2.2062e-06\n",
      "Epoch 77/100\n",
      "84/84 [==============================] - 0s 3ms/step - loss: 0.0047 - val_loss: 0.0013\n",
      "Epoch 78/100\n",
      "84/84 [==============================] - 0s 4ms/step - loss: 0.0051 - val_loss: 1.5672e-05\n",
      "Epoch 79/100\n",
      "84/84 [==============================] - 0s 4ms/step - loss: 0.0043 - val_loss: 0.0020\n",
      "Epoch 80/100\n",
      "84/84 [==============================] - ETA: 0s - loss: 0.005 - 0s 4ms/step - loss: 0.0051 - val_loss: 1.2683e-04\n",
      "Epoch 81/100\n",
      "84/84 [==============================] - 0s 4ms/step - loss: 0.0036 - val_loss: 3.7918e-05\n",
      "Epoch 82/100\n",
      "84/84 [==============================] - 0s 3ms/step - loss: 0.0043 - val_loss: 7.8319e-04\n",
      "Epoch 83/100\n",
      "84/84 [==============================] - 0s 3ms/step - loss: 0.0039 - val_loss: 3.4381e-05\n",
      "Epoch 84/100\n",
      "84/84 [==============================] - 0s 3ms/step - loss: 0.0041 - val_loss: 1.9172e-05\n",
      "Epoch 85/100\n",
      "84/84 [==============================] - 0s 4ms/step - loss: 0.0046 - val_loss: 2.8852e-04\n",
      "Epoch 86/100\n",
      "84/84 [==============================] - 0s 3ms/step - loss: 0.0041 - val_loss: 2.6802e-05\n",
      "Epoch 87/100\n",
      "84/84 [==============================] - 0s 2ms/step - loss: 0.0041 - val_loss: 5.7448e-04\n",
      "Epoch 88/100\n",
      "84/84 [==============================] - 0s 3ms/step - loss: 0.0045 - val_loss: 9.9168e-06\n",
      "Epoch 89/100\n",
      "84/84 [==============================] - 0s 3ms/step - loss: 0.0037 - val_loss: 6.8164e-05\n",
      "Epoch 90/100\n",
      "84/84 [==============================] - 0s 3ms/step - loss: 0.0039 - val_loss: 0.0011\n",
      "Epoch 91/100\n",
      "84/84 [==============================] - 0s 2ms/step - loss: 0.0047 - val_loss: 6.1571e-04\n",
      "Epoch 92/100\n",
      "84/84 [==============================] - 0s 3ms/step - loss: 0.0044 - val_loss: 9.5146e-04\n",
      "Epoch 93/100\n",
      "84/84 [==============================] - 0s 3ms/step - loss: 0.0042 - val_loss: 4.8660e-04\n",
      "Epoch 94/100\n",
      "84/84 [==============================] - 0s 3ms/step - loss: 0.0032 - val_loss: 1.0603e-04\n",
      "Epoch 95/100\n",
      "84/84 [==============================] - 0s 3ms/step - loss: 0.0047 - val_loss: 6.2250e-04\n",
      "Epoch 96/100\n",
      "84/84 [==============================] - 0s 2ms/step - loss: 0.0044 - val_loss: 8.3374e-04\n",
      "Epoch 97/100\n",
      "84/84 [==============================] - 0s 3ms/step - loss: 0.0043 - val_loss: 1.9469e-04\n",
      "Epoch 98/100\n",
      "84/84 [==============================] - 0s 2ms/step - loss: 0.0043 - val_loss: 1.7354e-04\n",
      "Epoch 99/100\n",
      "84/84 [==============================] - 0s 3ms/step - loss: 0.0035 - val_loss: 0.0027\n",
      "Epoch 100/100\n",
      "84/84 [==============================] - 0s 2ms/step - loss: 0.0043 - val_loss: 0.0011\n"
     ]
    }
   ],
   "source": [
    "eth = get_data()\n",
    "train_x, test_x, train_y, test_y, recover = get_train_test_data(eth)\n",
    "model = get_model(train_x)\n",
    "history = model.fit(\n",
    "    train_x, train_y,\n",
    "    epochs=100, batch_size=16, validation_split=0.1)"
   ]
  },
  {
   "cell_type": "code",
   "execution_count": 111,
   "metadata": {},
   "outputs": [
    {
     "data": {
      "text/plain": [
       "[<matplotlib.lines.Line2D at 0x215693c0dc0>]"
      ]
     },
     "execution_count": 111,
     "metadata": {},
     "output_type": "execute_result"
    },
    {
     "data": {
      "image/png": "[encoded data removed]",
      "text/plain": [
       "<Figure size 432x288 with 1 Axes>"
      ]
     },
     "metadata": {
      "needs_background": "light"
     },
     "output_type": "display_data"
    }
   ],
   "source": [
    "# first and second's loss is too big, let's ignore them\n",
    "plt.plot(history.history[\"loss\"][2:])\n",
    "plt.plot(history.history[\"val_loss\"][2:])\n",
    "# history.history.keys()"
   ]
  },
  {
   "cell_type": "markdown",
   "metadata": {},
   "source": [
    "the result seem the model is convergence, but loss decrease slowly after 80 epoch, so add early stopping"
   ]
  },
  {
   "cell_type": "code",
   "execution_count": 112,
   "metadata": {},
   "outputs": [
    {
     "name": "stdout",
     "output_type": "stream",
     "text": [
      "(1489, 1, 5)\n",
      "Model: \"sequential_22\"\n",
      "_________________________________________________________________\n",
      " Layer (type)                Output Shape              Param #   \n",
      "=================================================================\n",
      " lstm_22 (LSTM)              (None, 50)                11200     \n",
      "                                                                 \n",
      " batch_normalization_22 (Bat  (None, 50)               200       \n",
      " chNormalization)                                                \n",
      "                                                                 \n",
      " dropout_20 (Dropout)        (None, 50)                0         \n",
      "                                                                 \n",
      " dense_22 (Dense)            (None, 1)                 51        \n",
      "                                                                 \n",
      "=================================================================\n",
      "Total params: 11,451\n",
      "Trainable params: 11,351\n",
      "Non-trainable params: 100\n",
      "_________________________________________________________________\n",
      "Epoch 1/100\n",
      "84/84 [==============================] - 2s 8ms/step - loss: 0.0846 - val_loss: 0.0435\n",
      "Epoch 2/100\n",
      "84/84 [==============================] - 0s 3ms/step - loss: 0.0263 - val_loss: 0.0369\n",
      "Epoch 3/100\n",
      "84/84 [==============================] - 0s 3ms/step - loss: 0.0148 - val_loss: 0.0140\n",
      "Epoch 4/100\n",
      "84/84 [==============================] - 0s 3ms/step - loss: 0.0118 - val_loss: 0.0197\n",
      "Epoch 5/100\n",
      "84/84 [==============================] - 0s 3ms/step - loss: 0.0090 - val_loss: 4.4029e-04\n",
      "Epoch 6/100\n",
      "84/84 [==============================] - 0s 2ms/step - loss: 0.0071 - val_loss: 0.0031\n",
      "Epoch 7/100\n",
      "84/84 [==============================] - 0s 3ms/step - loss: 0.0067 - val_loss: 3.0393e-04\n",
      "Epoch 8/100\n",
      "84/84 [==============================] - 0s 3ms/step - loss: 0.0063 - val_loss: 0.0086\n",
      "Epoch 9/100\n",
      "84/84 [==============================] - 0s 2ms/step - loss: 0.0061 - val_loss: 1.8309e-04\n",
      "Epoch 10/100\n",
      "84/84 [==============================] - 0s 3ms/step - loss: 0.0056 - val_loss: 1.3862e-05\n",
      "Epoch 11/100\n",
      "84/84 [==============================] - 0s 3ms/step - loss: 0.0069 - val_loss: 0.0041\n",
      "Epoch 12/100\n",
      "84/84 [==============================] - 0s 3ms/step - loss: 0.0061 - val_loss: 4.4061e-04\n",
      "Epoch 13/100\n",
      "84/84 [==============================] - 0s 3ms/step - loss: 0.0059 - val_loss: 6.1422e-05\n",
      "Epoch 14/100\n",
      "84/84 [==============================] - 0s 3ms/step - loss: 0.0063 - val_loss: 0.0064\n",
      "Epoch 15/100\n",
      "84/84 [==============================] - 0s 3ms/step - loss: 0.0053 - val_loss: 9.1293e-04\n",
      "Epoch 16/100\n",
      "84/84 [==============================] - 0s 3ms/step - loss: 0.0058 - val_loss: 1.9894e-05\n",
      "Epoch 17/100\n",
      "84/84 [==============================] - 0s 3ms/step - loss: 0.0056 - val_loss: 0.0023\n",
      "Epoch 18/100\n",
      "84/84 [==============================] - 0s 3ms/step - loss: 0.0060 - val_loss: 9.4248e-04\n",
      "Epoch 19/100\n",
      "84/84 [==============================] - 0s 3ms/step - loss: 0.0061 - val_loss: 0.0036\n",
      "Epoch 20/100\n",
      "84/84 [==============================] - ETA: 0s - loss: 0.006 - 0s 3ms/step - loss: 0.0059 - val_loss: 0.0025\n"
     ]
    }
   ],
   "source": [
    "callback = keras.callbacks.EarlyStopping(monitor='val_loss', patience=10)\n",
    "eth = get_data()\n",
    "train_x, test_x, train_y, test_y, recover = get_train_test_data(eth)\n",
    "model = get_model(train_x)\n",
    "history = model.fit(\n",
    "    train_x, train_y,\n",
    "    epochs=100, batch_size=16,\n",
    "    validation_split=0.1, callbacks=callback)"
   ]
  },
  {
   "cell_type": "code",
   "execution_count": 113,
   "metadata": {},
   "outputs": [
    {
     "data": {
      "text/plain": [
       "[<matplotlib.lines.Line2D at 0x2157afe5610>]"
      ]
     },
     "execution_count": 113,
     "metadata": {},
     "output_type": "execute_result"
    },
    {
     "data": {
      "image/png": "[encoded data removed]",
      "text/plain": [
       "<Figure size 432x288 with 1 Axes>"
      ]
     },
     "metadata": {
      "needs_background": "light"
     },
     "output_type": "display_data"
    }
   ],
   "source": [
    "plt.plot(history.history[\"loss\"][2:])\n",
    "plt.plot(history.history[\"val_loss\"][2:])\n",
    "# history.history.keys()"
   ]
  },
  {
   "cell_type": "code",
   "execution_count": 114,
   "metadata": {},
   "outputs": [],
   "source": [
    "predicted = model.predict(test_x)\n",
    "# print(predicted)\n",
    "# print(predicted[:5], train_y.values[:5])\n",
    "predicted = np.reshape(predicted, (predicted.size,))\n",
    "org_test_y = recover_value(test_y, recover, \"close\")\n",
    "predicted = recover_value(predicted, recover, \"close\")\n",
    "predicted = np.reshape(predicted, (predicted.size,))"
   ]
  },
  {
   "cell_type": "code",
   "execution_count": 115,
   "metadata": {},
   "outputs": [
    {
     "name": "stdout",
     "output_type": "stream",
     "text": [
      "639\n"
     ]
    }
   ],
   "source": [
    "print(len(test_x))"
   ]
  },
  {
   "cell_type": "code",
   "execution_count": 116,
   "metadata": {},
   "outputs": [
    {
     "data": {
      "image/png": "[encoded data removed]",
      "text/plain": [
       "<Figure size 432x288 with 1 Axes>"
      ]
     },
     "metadata": {
      "needs_background": "light"
     },
     "output_type": "display_data"
    }
   ],
   "source": [
    "plt.plot(org_test_y.values[50::-1], color=\"b\")\n",
    "plt.plot(predicted[50::-1], color=\"r\")\n",
    "plt.show()"
   ]
  },
  {
   "cell_type": "markdown",
   "metadata": {},
   "source": [
    "the image show that result of predict is slowly then the reality, let's visualize more"
   ]
  },
  {
   "cell_type": "code",
   "execution_count": 117,
   "metadata": {},
   "outputs": [
    {
     "data": {
      "text/plain": [
       "0           NaN\n",
       "1      3104.955\n",
       "2      3115.160\n",
       "3      3137.665\n",
       "4      3301.540\n",
       "         ...   \n",
       "634     171.470\n",
       "635     162.605\n",
       "636     155.675\n",
       "637     157.415\n",
       "638     157.555\n",
       "Name: close, Length: 639, dtype: float64"
      ]
     },
     "execution_count": 117,
     "metadata": {},
     "output_type": "execute_result"
    }
   ],
   "source": [
    "ma = org_test_y.rolling(window=2).mean()\n",
    "ma"
   ]
  },
  {
   "cell_type": "code",
   "execution_count": 118,
   "metadata": {},
   "outputs": [
    {
     "data": {
      "image/png": "[encoded data removed]",
      "text/plain": [
       "<Figure size 432x288 with 1 Axes>"
      ]
     },
     "metadata": {
      "needs_background": "light"
     },
     "output_type": "display_data"
    }
   ],
   "source": [
    "plt.plot(org_test_y.values[50::-1], color=\"b\")\n",
    "plt.plot(predicted[50::-1], color=\"r\")\n",
    "plt.plot(ma.values[50::-1], color=\"g\")\n",
    "plt.show()"
   ]
  },
  {
   "cell_type": "code",
   "execution_count": 119,
   "metadata": {},
   "outputs": [
    {
     "name": "stdout",
     "output_type": "stream",
     "text": [
      "0.4608150470219436 0.4843260188087774\n"
     ]
    }
   ],
   "source": [
    "def acc_with_raise_or_decrease(x, y):\n",
    "    count = 0\n",
    "    for i in range(len(x) - 1):\n",
    "        count += 1 if (x[i] - x[i+1]) * (y[i] - y[i+1]) > 0 else 0\n",
    "    return count / (len(x) - 1)\n",
    "\n",
    "lstm_result = acc_with_raise_or_decrease(org_test_y.values[::-1], predicted[::-1])\n",
    "ma_result = acc_with_raise_or_decrease(ma.values[::-1], predicted[::-1])\n",
    "\n",
    "print(lstm_result, ma_result)"
   ]
  },
  {
   "cell_type": "markdown",
   "metadata": {},
   "source": [
    "In trending predict moving average performance is better then using lstm model, trying using more feature in model"
   ]
  },
  {
   "cell_type": "markdown",
   "metadata": {},
   "source": [
    "callback = keras.callbacks.EarlyStopping(monitor='val_loss', patience=10)\n",
    "eth = get_data()\n",
    "train_x, test_x, train_y, test_y, recover = get_train_test_data(eth, length=10, cols = [\"close\", \"open\"])\n",
    "model = get_model(train_x)\n",
    "history = model.fit(\n",
    "    train_x, train_y,\n",
    "    epochs=100, batch_size=16,\n",
    "    validation_split=0.1, callbacks=callback)"
   ]
  },
  {
   "cell_type": "code",
   "execution_count": 120,
   "metadata": {},
   "outputs": [
    {
     "name": "stdout",
     "output_type": "stream",
     "text": [
      "(1484, 2, 10)\n",
      "Model: \"sequential_23\"\n",
      "_________________________________________________________________\n",
      " Layer (type)                Output Shape              Param #   \n",
      "=================================================================\n",
      " lstm_23 (LSTM)              (None, 50)                12200     \n",
      "                                                                 \n",
      " batch_normalization_23 (Bat  (None, 50)               200       \n",
      " chNormalization)                                                \n",
      "                                                                 \n",
      " dropout_21 (Dropout)        (None, 50)                0         \n",
      "                                                                 \n",
      " dense_23 (Dense)            (None, 1)                 51        \n",
      "                                                                 \n",
      "=================================================================\n",
      "Total params: 12,451\n",
      "Trainable params: 12,351\n",
      "Non-trainable params: 100\n",
      "_________________________________________________________________\n",
      "Epoch 1/100\n",
      "84/84 [==============================] - 2s 9ms/step - loss: 0.3355 - val_loss: 0.0314\n",
      "Epoch 2/100\n",
      "84/84 [==============================] - 0s 3ms/step - loss: 0.1071 - val_loss: 0.0156\n",
      "Epoch 3/100\n",
      "84/84 [==============================] - 0s 3ms/step - loss: 0.0502 - val_loss: 0.0319\n",
      "Epoch 4/100\n",
      "84/84 [==============================] - 0s 3ms/step - loss: 0.0348 - val_loss: 0.0145\n",
      "Epoch 5/100\n",
      "84/84 [==============================] - 0s 3ms/step - loss: 0.0164 - val_loss: 0.0122\n",
      "Epoch 6/100\n",
      "84/84 [==============================] - 0s 3ms/step - loss: 0.0149 - val_loss: 0.0020\n",
      "Epoch 7/100\n",
      "84/84 [==============================] - 0s 3ms/step - loss: 0.0120 - val_loss: 0.0208\n",
      "Epoch 8/100\n",
      "84/84 [==============================] - 0s 3ms/step - loss: 0.0103 - val_loss: 0.0101\n",
      "Epoch 9/100\n",
      "84/84 [==============================] - 0s 3ms/step - loss: 0.0126 - val_loss: 5.5771e-04\n",
      "Epoch 10/100\n",
      "84/84 [==============================] - 0s 3ms/step - loss: 0.0110 - val_loss: 9.3996e-04\n",
      "Epoch 11/100\n",
      "84/84 [==============================] - 0s 3ms/step - loss: 0.0093 - val_loss: 6.5014e-04\n",
      "Epoch 12/100\n",
      "84/84 [==============================] - 0s 3ms/step - loss: 0.0094 - val_loss: 0.0075\n",
      "Epoch 13/100\n",
      "84/84 [==============================] - 0s 3ms/step - loss: 0.0102 - val_loss: 0.0369\n",
      "Epoch 14/100\n",
      "84/84 [==============================] - 0s 3ms/step - loss: 0.0101 - val_loss: 0.0123\n",
      "Epoch 15/100\n",
      "84/84 [==============================] - 0s 3ms/step - loss: 0.0081 - val_loss: 0.0259\n",
      "Epoch 16/100\n",
      "84/84 [==============================] - 0s 3ms/step - loss: 0.0090 - val_loss: 0.0116\n",
      "Epoch 17/100\n",
      "84/84 [==============================] - 0s 3ms/step - loss: 0.0092 - val_loss: 2.1459e-04\n",
      "Epoch 18/100\n",
      "84/84 [==============================] - 0s 3ms/step - loss: 0.0092 - val_loss: 0.0017\n",
      "Epoch 19/100\n",
      "84/84 [==============================] - ETA: 0s - loss: 0.009 - 0s 3ms/step - loss: 0.0087 - val_loss: 1.4148e-04\n",
      "Epoch 20/100\n",
      "84/84 [==============================] - 0s 3ms/step - loss: 0.0085 - val_loss: 6.5754e-04\n",
      "Epoch 21/100\n",
      "84/84 [==============================] - 0s 3ms/step - loss: 0.0076 - val_loss: 0.0011\n",
      "Epoch 22/100\n",
      "84/84 [==============================] - 0s 3ms/step - loss: 0.0086 - val_loss: 0.0034\n",
      "Epoch 23/100\n",
      "84/84 [==============================] - 0s 3ms/step - loss: 0.0078 - val_loss: 0.0011\n",
      "Epoch 24/100\n",
      "84/84 [==============================] - 0s 3ms/step - loss: 0.0108 - val_loss: 0.0038\n",
      "Epoch 25/100\n",
      "84/84 [==============================] - 0s 3ms/step - loss: 0.0081 - val_loss: 0.0017\n",
      "Epoch 26/100\n",
      "84/84 [==============================] - 0s 3ms/step - loss: 0.0081 - val_loss: 0.0036\n",
      "Epoch 27/100\n",
      "84/84 [==============================] - 0s 3ms/step - loss: 0.0097 - val_loss: 0.0051\n",
      "Epoch 28/100\n",
      "84/84 [==============================] - 0s 3ms/step - loss: 0.0094 - val_loss: 5.8778e-06\n",
      "Epoch 29/100\n",
      "84/84 [==============================] - 0s 3ms/step - loss: 0.0067 - val_loss: 2.3065e-06\n",
      "Epoch 30/100\n",
      "84/84 [==============================] - 0s 3ms/step - loss: 0.0070 - val_loss: 0.0143\n",
      "Epoch 31/100\n",
      "84/84 [==============================] - 0s 3ms/step - loss: 0.0072 - val_loss: 3.1615e-05\n",
      "Epoch 32/100\n",
      "84/84 [==============================] - 0s 3ms/step - loss: 0.0068 - val_loss: 0.0021\n",
      "Epoch 33/100\n",
      "84/84 [==============================] - 0s 3ms/step - loss: 0.0070 - val_loss: 0.0016\n",
      "Epoch 34/100\n",
      "84/84 [==============================] - 0s 3ms/step - loss: 0.0078 - val_loss: 0.0066\n",
      "Epoch 35/100\n",
      "84/84 [==============================] - 0s 3ms/step - loss: 0.0083 - val_loss: 2.3004e-04\n",
      "Epoch 36/100\n",
      "84/84 [==============================] - 0s 3ms/step - loss: 0.0079 - val_loss: 3.5781e-04\n",
      "Epoch 37/100\n",
      "84/84 [==============================] - 0s 4ms/step - loss: 0.0058 - val_loss: 2.3538e-06\n",
      "Epoch 38/100\n",
      "84/84 [==============================] - 0s 3ms/step - loss: 0.0060 - val_loss: 6.9884e-05\n",
      "Epoch 39/100\n",
      "84/84 [==============================] - 0s 3ms/step - loss: 0.0051 - val_loss: 0.0027\n",
      "Epoch 40/100\n",
      "84/84 [==============================] - 0s 3ms/step - loss: 0.0054 - val_loss: 0.0039\n",
      "Epoch 41/100\n",
      "84/84 [==============================] - 0s 3ms/step - loss: 0.0065 - val_loss: 0.0116\n",
      "Epoch 42/100\n",
      "84/84 [==============================] - 0s 3ms/step - loss: 0.0050 - val_loss: 0.0039\n",
      "Epoch 43/100\n",
      "84/84 [==============================] - 0s 3ms/step - loss: 0.0058 - val_loss: 0.0015\n",
      "Epoch 44/100\n",
      "84/84 [==============================] - 0s 4ms/step - loss: 0.0066 - val_loss: 0.0023\n",
      "Epoch 45/100\n",
      "84/84 [==============================] - 0s 3ms/step - loss: 0.0063 - val_loss: 0.0024\n",
      "Epoch 46/100\n",
      "84/84 [==============================] - 0s 3ms/step - loss: 0.0062 - val_loss: 0.0025\n",
      "Epoch 47/100\n",
      "84/84 [==============================] - 0s 3ms/step - loss: 0.0061 - val_loss: 0.0071\n",
      "Epoch 48/100\n",
      "84/84 [==============================] - 0s 3ms/step - loss: 0.0061 - val_loss: 0.0021\n",
      "Epoch 49/100\n",
      "84/84 [==============================] - 0s 3ms/step - loss: 0.0057 - val_loss: 0.0012\n"
     ]
    }
   ],
   "source": [
    "callback = keras.callbacks.EarlyStopping(monitor='val_loss', patience=20)\n",
    "eth = get_data()\n",
    "# try add more feature\n",
    "train_x, test_x, train_y, test_y, recover = get_train_test_data(eth, length=10, cols = [\"close\",\"open\"])\n",
    "model = get_model(train_x)\n",
    "history = model.fit(\n",
    "    train_x, train_y,\n",
    "    epochs=100, batch_size=16,\n",
    "    validation_split=0.1, callbacks=callback)\n"
   ]
  },
  {
   "cell_type": "code",
   "execution_count": 121,
   "metadata": {},
   "outputs": [
    {
     "data": {
      "text/plain": [
       "0           NaN\n",
       "1      3104.955\n",
       "2      3115.160\n",
       "3      3137.665\n",
       "4      3301.540\n",
       "         ...   \n",
       "634     171.470\n",
       "635     162.605\n",
       "636     155.675\n",
       "637     157.415\n",
       "638     157.555\n",
       "Name: close, Length: 639, dtype: float64"
      ]
     },
     "execution_count": 121,
     "metadata": {},
     "output_type": "execute_result"
    }
   ],
   "source": [
    "ma = org_test_y.rolling(window=2).mean()\n",
    "ma"
   ]
  },
  {
   "cell_type": "code",
   "execution_count": 122,
   "metadata": {},
   "outputs": [
    {
     "data": {
      "image/png": "[encoded data removed]",
      "text/plain": [
       "<Figure size 432x288 with 1 Axes>"
      ]
     },
     "metadata": {
      "needs_background": "light"
     },
     "output_type": "display_data"
    }
   ],
   "source": [
    "plt.plot(org_test_y.values[50::-1], color=\"b\")\n",
    "plt.plot(predicted[50::-1], color=\"r\")\n",
    "plt.plot(ma.values[50::-1], color=\"g\")\n",
    "plt.show()"
   ]
  },
  {
   "cell_type": "code",
   "execution_count": 123,
   "metadata": {},
   "outputs": [
    {
     "name": "stdout",
     "output_type": "stream",
     "text": [
      "0.4608150470219436 0.4843260188087774\n"
     ]
    }
   ],
   "source": [
    "lstm_result = acc_with_raise_or_decrease(org_test_y.values[::-1], predicted[::-1])\n",
    "ma_result = acc_with_raise_or_decrease(ma.values[::-1], predicted[::-1])\n",
    "\n",
    "print(lstm_result, ma_result)"
   ]
  },
  {
   "cell_type": "markdown",
   "metadata": {},
   "source": [
    "performance didn't improve. Result show that we can't only use LSTM model to predict trending of market."
   ]
  }
 ],
 "metadata": {
  "interpreter": {
   "hash": "f60e0c555555a118c1467c652a4b5d51d2b2fe5d5685e2acdb47a2aca0c32b97"
  },
  "kernelspec": {
   "display_name": "Python 3.8.2 64-bit ('henry_rnn': venv)",
   "language": "python",
   "name": "python3"
  },
  "language_info": {
   "codemirror_mode": {
    "name": "ipython",
    "version": 3
   },
   "file_extension": ".py",
   "mimetype": "text/x-python",
   "name": "python",
   "nbconvert_exporter": "python",
   "pygments_lexer": "ipython3",
   "version": "3.8.2"
  },
  "orig_nbformat": 4
 },
 "nbformat": 4,
 "nbformat_minor": 2
}
